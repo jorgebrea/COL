{
 "cells": [
  {
   "cell_type": "code",
   "execution_count": null,
   "metadata": {},
   "outputs": [],
   "source": []
  },
  {
   "cell_type": "code",
   "execution_count": 232,
   "metadata": {},
   "outputs": [],
   "source": [
    "import pandas as pd\n",
    "%matplotlib inline \n",
    "import matplotlib\n",
    "import matplotlib.pyplot as plt\n",
    "import seaborn as sns\n",
    "import numpy as np"
   ]
  },
  {
   "cell_type": "code",
   "execution_count": 256,
   "metadata": {},
   "outputs": [],
   "source": [
    "infile1 = \"../data/SetVariablesCashOnline_Hernan_v2.csv\"\n",
    "data = pd.read_csv(infile,sep=',')"
   ]
  },
  {
   "cell_type": "code",
   "execution_count": 260,
   "metadata": {},
   "outputs": [],
   "source": [
    "infile2 = \"../data/MoraMayor90ever.csv\"\n",
    "mora = pd.read_csv(infile2,sep=',')"
   ]
  },
  {
   "cell_type": "code",
   "execution_count": 274,
   "metadata": {},
   "outputs": [],
   "source": [
    "test=mora[mora.Flag90>0].groupby(\"PreNro\").count()[\"Plazo\"]"
   ]
  },
  {
   "cell_type": "code",
   "execution_count": 283,
   "metadata": {},
   "outputs": [],
   "source": [
    "morosos = mora[mora.Flag90>0].drop_duplicates(\"PreNro\")[\"PreNro\"]"
   ]
  },
  {
   "cell_type": "code",
   "execution_count": 289,
   "metadata": {},
   "outputs": [
    {
     "data": {
      "text/html": [
       "<div>\n",
       "<style scoped>\n",
       "    .dataframe tbody tr th:only-of-type {\n",
       "        vertical-align: middle;\n",
       "    }\n",
       "\n",
       "    .dataframe tbody tr th {\n",
       "        vertical-align: top;\n",
       "    }\n",
       "\n",
       "    .dataframe thead th {\n",
       "        text-align: right;\n",
       "    }\n",
       "</style>\n",
       "<table border=\"1\" class=\"dataframe\">\n",
       "  <thead>\n",
       "    <tr style=\"text-align: right;\">\n",
       "      <th></th>\n",
       "      <th>PreNro</th>\n",
       "      <th>TdesdeLiquidacion</th>\n",
       "      <th>Flag90</th>\n",
       "      <th>Plazo</th>\n",
       "    </tr>\n",
       "  </thead>\n",
       "  <tbody>\n",
       "    <tr>\n",
       "      <th>313</th>\n",
       "      <td>4316.0</td>\n",
       "      <td>13.0</td>\n",
       "      <td>1.0</td>\n",
       "      <td>24.0</td>\n",
       "    </tr>\n",
       "    <tr>\n",
       "      <th>314</th>\n",
       "      <td>4316.0</td>\n",
       "      <td>14.0</td>\n",
       "      <td>1.0</td>\n",
       "      <td>24.0</td>\n",
       "    </tr>\n",
       "    <tr>\n",
       "      <th>315</th>\n",
       "      <td>4316.0</td>\n",
       "      <td>15.0</td>\n",
       "      <td>1.0</td>\n",
       "      <td>24.0</td>\n",
       "    </tr>\n",
       "    <tr>\n",
       "      <th>316</th>\n",
       "      <td>4316.0</td>\n",
       "      <td>16.0</td>\n",
       "      <td>1.0</td>\n",
       "      <td>24.0</td>\n",
       "    </tr>\n",
       "    <tr>\n",
       "      <th>317</th>\n",
       "      <td>4316.0</td>\n",
       "      <td>17.0</td>\n",
       "      <td>1.0</td>\n",
       "      <td>24.0</td>\n",
       "    </tr>\n",
       "  </tbody>\n",
       "</table>\n",
       "</div>"
      ],
      "text/plain": [
       "     PreNro  TdesdeLiquidacion  Flag90  Plazo\n",
       "313  4316.0               13.0     1.0   24.0\n",
       "314  4316.0               14.0     1.0   24.0\n",
       "315  4316.0               15.0     1.0   24.0\n",
       "316  4316.0               16.0     1.0   24.0\n",
       "317  4316.0               17.0     1.0   24.0"
      ]
     },
     "execution_count": 289,
     "metadata": {},
     "output_type": "execute_result"
    }
   ],
   "source": [
    "mora[mora.Flag90>0].head()"
   ]
  },
  {
   "cell_type": "code",
   "execution_count": 299,
   "metadata": {},
   "outputs": [
    {
     "data": {
      "text/html": [
       "<div>\n",
       "<style scoped>\n",
       "    .dataframe tbody tr th:only-of-type {\n",
       "        vertical-align: middle;\n",
       "    }\n",
       "\n",
       "    .dataframe tbody tr th {\n",
       "        vertical-align: top;\n",
       "    }\n",
       "\n",
       "    .dataframe thead th {\n",
       "        text-align: right;\n",
       "    }\n",
       "</style>\n",
       "<table border=\"1\" class=\"dataframe\">\n",
       "  <thead>\n",
       "    <tr style=\"text-align: right;\">\n",
       "      <th></th>\n",
       "      <th>PreNro</th>\n",
       "      <th>TdesdeLiquidacion</th>\n",
       "      <th>Flag90</th>\n",
       "      <th>Plazo</th>\n",
       "    </tr>\n",
       "  </thead>\n",
       "  <tbody>\n",
       "    <tr>\n",
       "      <th>0</th>\n",
       "      <td>4292.0</td>\n",
       "      <td>0.0</td>\n",
       "      <td>0.0</td>\n",
       "      <td>24.0</td>\n",
       "    </tr>\n",
       "    <tr>\n",
       "      <th>1</th>\n",
       "      <td>4292.0</td>\n",
       "      <td>1.0</td>\n",
       "      <td>0.0</td>\n",
       "      <td>24.0</td>\n",
       "    </tr>\n",
       "    <tr>\n",
       "      <th>2</th>\n",
       "      <td>4292.0</td>\n",
       "      <td>2.0</td>\n",
       "      <td>0.0</td>\n",
       "      <td>24.0</td>\n",
       "    </tr>\n",
       "    <tr>\n",
       "      <th>3</th>\n",
       "      <td>4292.0</td>\n",
       "      <td>3.0</td>\n",
       "      <td>0.0</td>\n",
       "      <td>24.0</td>\n",
       "    </tr>\n",
       "    <tr>\n",
       "      <th>4</th>\n",
       "      <td>4292.0</td>\n",
       "      <td>4.0</td>\n",
       "      <td>0.0</td>\n",
       "      <td>24.0</td>\n",
       "    </tr>\n",
       "  </tbody>\n",
       "</table>\n",
       "</div>"
      ],
      "text/plain": [
       "   PreNro  TdesdeLiquidacion  Flag90  Plazo\n",
       "0  4292.0                0.0     0.0   24.0\n",
       "1  4292.0                1.0     0.0   24.0\n",
       "2  4292.0                2.0     0.0   24.0\n",
       "3  4292.0                3.0     0.0   24.0\n",
       "4  4292.0                4.0     0.0   24.0"
      ]
     },
     "execution_count": 299,
     "metadata": {},
     "output_type": "execute_result"
    }
   ],
   "source": [
    "mora.head()"
   ]
  },
  {
   "cell_type": "code",
   "execution_count": 328,
   "metadata": {},
   "outputs": [
    {
     "name": "stderr",
     "output_type": "stream",
     "text": [
      "/Users/jorgebrea/miniconda2/envs/condaenv/lib/python2.7/site-packages/ipykernel_launcher.py:2: UserWarning: Boolean Series key will be reindexed to match DataFrame index.\n",
      "  \n"
     ]
    },
    {
     "data": {
      "text/plain": [
       "0.2671564669788471"
      ]
     },
     "execution_count": 328,
     "metadata": {},
     "output_type": "execute_result"
    }
   ],
   "source": [
    "temp = mora[mora[\"Flag90\"] > 0.0]\n",
    "temp2 = temp[mora[\"Plazo\"]==12.0]\n",
    "temp2.shape[0] / float(temp.shape[0])"
   ]
  },
  {
   "cell_type": "code",
   "execution_count": 331,
   "metadata": {},
   "outputs": [
    {
     "name": "stderr",
     "output_type": "stream",
     "text": [
      "/Users/jorgebrea/miniconda2/envs/condaenv/lib/python2.7/site-packages/ipykernel_launcher.py:2: UserWarning: Boolean Series key will be reindexed to match DataFrame index.\n",
      "  \n"
     ]
    },
    {
     "data": {
      "text/plain": [
       "0.004279024705312449"
      ]
     },
     "execution_count": 331,
     "metadata": {},
     "output_type": "execute_result"
    }
   ],
   "source": [
    "temp = mora[mora[\"Flag90\"] > 0.0]\n",
    "temp2 = temp[mora[\"Plazo\"]==8.0]\n",
    "temp2.shape[0] / float(temp.shape[0])"
   ]
  },
  {
   "cell_type": "code",
   "execution_count": 297,
   "metadata": {},
   "outputs": [
    {
     "data": {
      "text/plain": [
       "33896"
      ]
     },
     "execution_count": 297,
     "metadata": {},
     "output_type": "execute_result"
    }
   ],
   "source": [
    "mora[.drop_duplicates(\"PreNro\") and (mora.Plazo == 12)].shape[0]# / mora[mora.Plazo ==12].shape[0]"
   ]
  },
  {
   "cell_type": "code",
   "execution_count": 279,
   "metadata": {},
   "outputs": [
    {
     "data": {
      "text/plain": [
       "<matplotlib.axes._subplots.AxesSubplot at 0x1a1c0c2cd0>"
      ]
     },
     "execution_count": 279,
     "metadata": {},
     "output_type": "execute_result"
    },
    {
     "data": {
      "image/png": "[encoded data removed]",
      "text/plain": [
       "<Figure size 432x288 with 1 Axes>"
      ]
     },
     "metadata": {},
     "output_type": "display_data"
    }
   ],
   "source": [
    "test.hist(bins=12)"
   ]
  },
  {
   "cell_type": "code",
   "execution_count": 335,
   "metadata": {},
   "outputs": [
    {
     "data": {
      "text/plain": [
       "'9/9/16 0:00'"
      ]
     },
     "execution_count": 335,
     "metadata": {},
     "output_type": "execute_result"
    }
   ],
   "source": [
    "data[\"Fecha_Liquidado\"].max()"
   ]
  },
  {
   "cell_type": "code",
   "execution_count": 157,
   "metadata": {},
   "outputs": [
    {
     "name": "stdout",
     "output_type": "stream",
     "text": [
      "('number of samples: ', 4004)\n",
      "('number of variables: ', 113)\n"
     ]
    }
   ],
   "source": [
    "print(\"number of samples: \", data.shape[0])\n",
    "print(\"number of variables: \", data.shape[1])"
   ]
  },
  {
   "cell_type": "code",
   "execution_count": null,
   "metadata": {},
   "outputs": [],
   "source": [
    "def get_pyp_date(x):\n",
    "    if str(x) == '1800/01/01':\n",
    "        return pd.to_datetime(\"2001-01-18\")\n",
    "    if str(x) == 'nan':\n",
    "        return x\n",
    "    else: \n",
    "        month, day, year = str(x).split('/')\n",
    "        if int(year) > 18:\n",
    "            year = '19'+year\n",
    "        else:\n",
    "            year = '20'+year\n",
    "        if int(month) < 10:\n",
    "            month = '0'+month\n",
    "        if int(day) < 10:\n",
    "            day = '0'+day\n",
    "        #print pd.to_datetime(year+'-'+month+'-'+day)\n",
    "        return pd.to_datetime(year+'-'+month+'-'+day)\n"
   ]
  },
  {
   "cell_type": "code",
   "execution_count": 158,
   "metadata": {},
   "outputs": [],
   "source": [
    "#Fix dates formats\n",
    "dates1 = ['Fecha_Liquidado','FechaSolicitud','PyP_DeudaSistemaFinanciero_Actual_Fecha',\n",
    "        'PyP_DeudaSistemaFinanciero_Ult6M_Fecha','PyP_DeudaSistemaFinanciero_Ult12M_Fecha',\n",
    "        'PyP_DeudaSistemaFinanciero_Ult24M_Fecha']\n",
    "dates2 = ['Nosis_FecNac', 'Nosis_FecActividad',\n",
    "        'Nosis_SSSalud_ObraSoc_FecAlta', 'Nosis_SSSalud_ObraSoc_FecAct', 'Nosis_FechaNovRelDep']\n",
    "        \n",
    "dates3 = ['PyP_RelacionLaboral_UltimoPeriodoInformado','PyP_RelacionLaboral_AltaUltimoEmpleo',\n",
    "          'Nosis_SitBCRAActual_Periodo']\n",
    "\n",
    "for v in dates1:\n",
    "    data[v] = data[v].map(lambda x: pd.to_datetime(x))\n",
    "\n",
    "for v in dates2:\n",
    "    data[v] = data[v].map(lambda x: pd.to_datetime(str(int(x))[:4]+'-'+str(int(x))[4:6]+'-'+str(int(x))[6:8]) if ~np.isnan(x) and x != 0.0 else np.nan)\n",
    "\n",
    "for v in dates3:\n",
    "    data[v] = data[v].map(lambda x: pd.to_datetime(str(int(x))[:4]+'/'+str(int(x))[4:6]+'/01') if ~np.isnan(x) else x)\n",
    "    \n",
    "data['PyP_FechaNacimiento'] = data['PyP_FechaNacimiento'].map(lambda x:get_pyp_date(str(x)))"
   ]
  },
  {
   "cell_type": "code",
   "execution_count": 159,
   "metadata": {},
   "outputs": [],
   "source": [
    "#Select certain fields as binary variables\n",
    "binarias = ['PyP_TieneJuicios','PyP_DeudaSistemaFinanciero_Ult6M_Entidad',\n",
    "           'PyP_DeudaSistemaFinanciero_Ult12M_Entidad','PyP_DeudaSistemaFinanciero_Ult24M_Entidad',\n",
    "           'Nosis_SSSalud_ObraSoc_Titular_Condicion','Nosis_AportesPatronales',\n",
    "           'Nosis_AportesComoEmpleador','Nosis_AportesServicioDomestico','Nosis_Novedad_Cheques','Nosis_Bancarizado',\n",
    "           'Nosis_Empleadores1']\n",
    "\n",
    "data['PyP_TieneJuicios'] = data['PyP_TieneJuicios'].map(lambda x: 1 if x == 'SI' else 0 )\n",
    "data['PyP_DeudaSistemaFinanciero_Ult6M_Entidad'] = data['PyP_DeudaSistemaFinanciero_Ult6M_Entidad'].map(lambda x: 0 if x == np.nan else 1)\n",
    "data['PyP_DeudaSistemaFinanciero_Ult12M_Entidad'] = data['PyP_DeudaSistemaFinanciero_Ult12M_Entidad'].map(lambda x: 0 if x == np.nan else 1)\n",
    "data['PyP_DeudaSistemaFinanciero_Ult24M_Entidad'] = data['PyP_DeudaSistemaFinanciero_Ult24M_Entidad'].map(lambda x: 0 if x == np.nan else 1)\n",
    "data['PyP_DeudaSistemaFinanciero_Ult24M_Entidad'] = data['PyP_DeudaSistemaFinanciero_Ult24M_Entidad'].map(lambda x: 0 if x == np.nan else 1)\n",
    "data['Nosis_SSSalud_ObraSoc_Titular_Condicion'] = data['Nosis_SSSalud_ObraSoc_Titular_Condicion'].map(lambda x: 0 if x == np.nan else 1)\n",
    "data['Nosis_AportesPatronales'] = data['Nosis_AportesPatronales'].map(lambda x: 0 if x == np.nan else 1)\n",
    "data['Nosis_AportesComoEmpleador'] = data['Nosis_AportesComoEmpleador'].map(lambda x: 0 if x == np.nan else 1)\n",
    "data['Nosis_AportesServicioDomestico'] = data['Nosis_AportesServicioDomestico'].map(lambda x: 0 if x == np.nan else 1)\n",
    "data['Nosis_Novedad_Cheques'] = data['Nosis_Novedad_Cheques'].map(lambda x: 1 if x == \"SI\" or x == \"Si\" else 0)\n",
    "data['Nosis_Empleadores1'] = data['Nosis_Empleadores1'].map(lambda x: 0 if x == np.nan else 1)\n",
    "data['Nosis_ObrasSociales'] = data['Nosis_ObrasSociales'].map(lambda x: 0 if x == np.nan else 1)\n",
    "data['Nosis_Bancarizado'] = data['Nosis_Bancarizado'].map(lambda x: 1 if x == \"SI\" else 0)"
   ]
  },
  {
   "cell_type": "code",
   "execution_count": 160,
   "metadata": {},
   "outputs": [],
   "source": [
    "#Turn this categorica variable into numerical\n",
    "categoricas = ['Nosis_NSE2']\n",
    "nse = {np.nan:-1,'D2':0, 'D1':1, 'C3':2, 'C2':3, 'C1':4, 'B':4, 'A':5}\n",
    "data['Nosis_NSE2'] = data['Nosis_NSE2'].map(lambda x: nse[x])"
   ]
  },
  {
   "cell_type": "code",
   "execution_count": 167,
   "metadata": {},
   "outputs": [],
   "source": [
    "#check out data types\n",
    "ints = [i for i in data.columns if data[i].dtypes == 'int64']\n",
    "floats = [i for i in data.columns if data[i].dtypes == 'float']\n",
    "dates = dates1 + dates2 + dates3\n",
    "objects = [i for i in data.columns if data[i].dtypes == 'object']\n",
    "\n",
    "selected = ints+floats+dates+binarias+categoricas"
   ]
  },
  {
   "cell_type": "code",
   "execution_count": 179,
   "metadata": {},
   "outputs": [
    {
     "name": "stdout",
     "output_type": "stream",
     "text": [
      "['PreNro', 'RiePedID', 'Plazo', 'CapitalLiquidado', 'Documento', 'PyP_TieneJuicios', 'PyP_DeudaSistemaFinanciero_Ult6M_Entidad', 'PyP_DeudaSistemaFinanciero_Ult12M_Entidad', 'PyP_DeudaSistemaFinanciero_Ult24M_Entidad', 'Nosis_SSSalud_ObraSoc_Titular_Condicion', 'Nosis_NSE2', 'Nosis_Empleadores1', 'Nosis_ObrasSociales', 'Nosis_AportesPatronales', 'Nosis_AportesComoEmpleador', 'Nosis_AportesServicioDomestico', 'Nosis_Novedad_Cheques', 'Nosis_Bancarizado', '90@12', '90@9', '30@6', '30@3', 'IngresosDeclarados', 'IngresosUtilizadosOferta', 'PyP_NroDocumento', 'PyP_CUIT', 'PyP_DeudaSistemaFinanciero_Actual_Situacion', 'PyP_DeudaSistemaFinanciero_Actual_MontoMaximo', 'PyP_DeudaSistemaFinanciero_Actual_DeudaActual', 'PyP_DeudaSistemaFinanciero_Ult6M_Situacion', 'PyP_DeudaSistemaFinanciero_Ult6M_MontoMaximo', 'PyP_DeudaSistemaFinanciero_Ult6M_DeudaActual', 'PyP_DeudaSistemaFinanciero_Ult12M_Situacion', 'PyP_DeudaSistemaFinanciero_Ult12M_MontoMaximo', 'PyP_DeudaSistemaFinanciero_Ult12M_DeudaActual', 'PyP_DeudaSistemaFinanciero_Ult24M_Situacion', 'PyP_DeudaSistemaFinanciero_Ult24M_MontoMaximo', 'PyP_DeudaSistemaFinanciero_Ult24M_DeudaActual', 'PyP_AntiguedadEnBCRA', 'PyP_RelacionLaboral_RangoDependiente', 'PyP_RelacionLaboral_CUITEmpleador', 'PyP_RelacionLaboral_RazonEmpleador', 'PyP_PyP_Autonomos_UltimoPeriodoInformado', 'PyP_IngresosDelConyuge', 'Veraz_Documento', 'Veraz_antiguedad_laboral', 'Veraz_cant cheques rech ult 12 meses', 'Veraz_cant juicios 12 meses', 'Veraz_cant morosidad NO REG b.abierta 24m', 'Veraz_cant morosidad NO REG b.cerrada 24m', 'Veraz_concursos y quiebras 60 meses', 'Veraz_Score2.0', 'BCRA_MaxSit_6meses', 'BCRA_MaxSit_12meses', 'BCRA_MaxSit_24meses', 'Nosis_CUIT', 'Nosis_FecAfip', 'Nosis_Edad', 'Nosis_VI_DomFiscal_CP', 'Nosis_VI_AgenciaAFIP_Nro', 'Nosis_SCORE2', 'Nosis_CompromisosMensuales', 'Nosis_SitBCRAActual_Monto', 'Nosis_SitBCRAActual_Situaci\\x97n', 'Fecha_Liquidado', 'FechaSolicitud', 'PyP_DeudaSistemaFinanciero_Actual_Fecha', 'PyP_DeudaSistemaFinanciero_Ult6M_Fecha', 'PyP_DeudaSistemaFinanciero_Ult12M_Fecha', 'PyP_DeudaSistemaFinanciero_Ult24M_Fecha', 'Nosis_FecNac', 'Nosis_FecActividad', 'Nosis_SSSalud_ObraSoc_FecAlta', 'Nosis_SSSalud_ObraSoc_FecAct', 'Nosis_FechaNovRelDep', 'PyP_RelacionLaboral_UltimoPeriodoInformado', 'PyP_RelacionLaboral_AltaUltimoEmpleo', 'Nosis_SitBCRAActual_Periodo', 'PyP_TieneJuicios', 'PyP_DeudaSistemaFinanciero_Ult6M_Entidad', 'PyP_DeudaSistemaFinanciero_Ult12M_Entidad', 'PyP_DeudaSistemaFinanciero_Ult24M_Entidad', 'Nosis_SSSalud_ObraSoc_Titular_Condicion', 'Nosis_AportesPatronales', 'Nosis_AportesComoEmpleador', 'Nosis_AportesServicioDomestico', 'Nosis_Novedad_Cheques', 'Nosis_Bancarizado', 'Nosis_Empleadores1', 'Nosis_NSE2']\n"
     ]
    }
   ],
   "source": [
    "print selected"
   ]
  },
  {
   "cell_type": "code",
   "execution_count": null,
   "metadata": {},
   "outputs": [],
   "source": [
    "datafilt = data[data.Nosis_SCORE2 > 10]"
   ]
  },
  {
   "cell_type": "code",
   "execution_count": 188,
   "metadata": {},
   "outputs": [
    {
     "data": {
      "text/plain": [
       "array([[<matplotlib.axes._subplots.AxesSubplot object at 0x1a186b2d90>]], dtype=object)"
      ]
     },
     "execution_count": 188,
     "metadata": {},
     "output_type": "execute_result"
    },
    {
     "data": {
      "image/png": "[encoded data removed]",
      "text/plain": [
       "<Figure size 432x288 with 1 Axes>"
      ]
     },
     "metadata": {},
     "output_type": "display_data"
    }
   ],
   "source": [
    "pd.DataFrame.hist(datafilt,\"Veraz_Score2.0\",bins=100)"
   ]
  },
  {
   "cell_type": "code",
   "execution_count": 286,
   "metadata": {},
   "outputs": [
    {
     "data": {
      "text/plain": [
       "array([[<matplotlib.axes._subplots.AxesSubplot object at 0x1a1dc1bfd0>]], dtype=object)"
      ]
     },
     "execution_count": 286,
     "metadata": {},
     "output_type": "execute_result"
    },
    {
     "data": {
      "image/png": "[encoded data removed]",
      "text/plain": [
       "<Figure size 432x288 with 1 Axes>"
      ]
     },
     "metadata": {},
     "output_type": "display_data"
    }
   ],
   "source": [
    "pd.DataFrame.hist(datafilt[datafilt.PreNro.isin(morosos)],\"Veraz_Score2.0\",bins=100)"
   ]
  },
  {
   "cell_type": "code",
   "execution_count": 288,
   "metadata": {},
   "outputs": [
    {
     "data": {
      "text/plain": [
       "array([[<matplotlib.axes._subplots.AxesSubplot object at 0x1a250ca6d0>]], dtype=object)"
      ]
     },
     "execution_count": 288,
     "metadata": {},
     "output_type": "execute_result"
    },
    {
     "data": {
      "image/png": "[encoded data removed]",
      "text/plain": [
       "<Figure size 432x288 with 1 Axes>"
      ]
     },
     "metadata": {},
     "output_type": "display_data"
    }
   ],
   "source": [
    "pd.DataFrame.hist(datafilt,\"Nosis_SCORE2\",bins=100)"
   ]
  },
  {
   "cell_type": "code",
   "execution_count": 287,
   "metadata": {},
   "outputs": [
    {
     "data": {
      "text/plain": [
       "array([[<matplotlib.axes._subplots.AxesSubplot object at 0x1a24eaa410>]], dtype=object)"
      ]
     },
     "execution_count": 287,
     "metadata": {},
     "output_type": "execute_result"
    },
    {
     "data": {
      "image/png": "[encoded data removed]",
      "text/plain": [
       "<Figure size 432x288 with 1 Axes>"
      ]
     },
     "metadata": {},
     "output_type": "display_data"
    }
   ],
   "source": [
    "pd.DataFrame.hist(datafilt[datafilt.PreNro.isin(morosos)],\"Nosis_SCORE2\",bins=100)"
   ]
  },
  {
   "cell_type": "code",
   "execution_count": 187,
   "metadata": {},
   "outputs": [
    {
     "data": {
      "text/plain": [
       "<matplotlib.collections.PathCollection at 0x1a17e9c690>"
      ]
     },
     "execution_count": 187,
     "metadata": {},
     "output_type": "execute_result"
    },
    {
     "data": {
      "image/png": "[encoded data removed]",
      "text/plain": [
       "<Figure size 432x288 with 1 Axes>"
      ]
     },
     "metadata": {},
     "output_type": "display_data"
    }
   ],
   "source": [
    "plt.scatter(datafilt[\"Nosis_SCORE2\"],datafilt[\"Veraz_Score2.0\"],alpha = 0.1)"
   ]
  },
  {
   "cell_type": "code",
   "execution_count": 212,
   "metadata": {},
   "outputs": [
    {
     "data": {
      "text/plain": [
       "Text(0,0.5,'#prestamos')"
      ]
     },
     "execution_count": 212,
     "metadata": {},
     "output_type": "execute_result"
    },
    {
     "data": {
      "image/png": "[encoded data removed]",
      "text/plain": [
       "<Figure size 432x288 with 1 Axes>"
      ]
     },
     "metadata": {},
     "output_type": "display_data"
    }
   ],
   "source": [
    "plazocounts = datafilt.Plazo.value_counts()\n",
    "plt.bar(plazocounts.keys(),plazocounts.values)\n",
    "plt.xlabel(\"months\")\n",
    "plt.ylabel(\"#prestamos\")"
   ]
  },
  {
   "cell_type": "code",
   "execution_count": 214,
   "metadata": {},
   "outputs": [],
   "source": [
    "import scipy.io\n",
    "from sklearn.metrics import accuracy_score\n",
    "from sklearn import cross_validation\n",
    "from sklearn import svm\n",
    "#from skfeature.function.information_theoretical_based import MRMR"
   ]
  },
  {
   "cell_type": "code",
   "execution_count": null,
   "metadata": {},
   "outputs": [],
   "source": []
  }
 ],
 "metadata": {
  "kernelspec": {
   "display_name": "Python 2",
   "language": "python",
   "name": "python2"
  },
  "language_info": {
   "codemirror_mode": {
    "name": "ipython",
    "version": 2
   },
   "file_extension": ".py",
   "mimetype": "text/x-python",
   "name": "python",
   "nbconvert_exporter": "python",
   "pygments_lexer": "ipython2",
   "version": "2.7.15"
  }
 },
 "nbformat": 4,
 "nbformat_minor": 2
}
